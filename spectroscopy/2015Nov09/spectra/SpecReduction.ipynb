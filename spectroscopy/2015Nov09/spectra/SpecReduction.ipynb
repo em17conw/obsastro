{
 "metadata": {
  "name": "",
  "signature": "sha256:b4acfc05577640c92ad77415788bd60e0540b851f5b3215b0e9af353823c69dd"
 },
 "nbformat": 3,
 "nbformat_minor": 0,
 "worksheets": [
  {
   "cells": [
    {
     "cell_type": "code",
     "collapsed": false,
     "input": [
      "from astropy.io import fits"
     ],
     "language": "python",
     "metadata": {},
     "outputs": []
    },
    {
     "cell_type": "code",
     "collapsed": false,
     "input": [
      "# read in image\n",
      "\n",
      "# identify location of spectrum on 2-D image\n",
      "\n",
      "# create 1-D array of flux vs pixel column\n",
      "# weight the row by the flux\n",
      "\n",
      "# create 1-D array of mercury and neon lamps\n",
      "# use same section that you used for star flux\n",
      "\n",
      "# identify wavelengths of"
     ],
     "language": "python",
     "metadata": {},
     "outputs": []
    }
   ],
   "metadata": {}
  }
 ]
}