{
 "metadata": {
  "name": "",
  "signature": "sha256:70911ae4af92e1ff7aa78f4705bcdea60961e6ee414c22e3873a2d2f131ede02"
 },
 "nbformat": 3,
 "nbformat_minor": 0,
 "worksheets": [
  {
   "cells": [
    {
     "cell_type": "code",
     "collapsed": false,
     "input": [
      "from astropy.io import fits"
     ],
     "language": "python",
     "metadata": {},
     "outputs": []
    }
   ],
   "metadata": {}
  }
 ]
}