{
 "cells": [
  {
   "cell_type": "markdown",
   "metadata": {},
   "source": [
    "## If you are using MaxIm DL on the Windows Laptop ##\n",
    "\n",
    "*These instructions were written by Sandy Spicer*\n",
    "\n",
    "* Launch MaxIm DL Pro 6\n",
    "\n",
    "* Plug power and usb into the CCD and laptop\n",
    "\n",
    "* Select View -> Camera control window -> Setup tab -> Setup Camera 1 -> Camera model = SBIG Universal -> Connect to ST-L-11K -> Click OK -> Deselect Auto-dark Subframe Extraction -> Click OK -> Setup Filter -> Change the fourth and fifth filter names to Halpha and OIII -> Connect\n",
    "\n",
    "* Setup -> Cooler for Camera to -20 degrees -> Coolers On  \n",
    "\n",
    "* Select single exposure -> Expose tab - Select Filter Wheel to change filters\n",
    "\n",
    "* Select Start to take an image\n",
    "\n",
    "* Expose -> Select Options -> Select No Calibration -> Set Image Save Path -> Click new folder and create the folder as your group name -> Select Autosave all exposures\n",
    "\n",
    "* Select subframe on and modifiy width and height both to 1000\n",
    "\n",
    "* Under Expose tab, select Autosave -> Select Autosave Filename to modify the filename that each exposure is saved as (ex: bias) -> Change Type to Bias -> Click Apply -> Click Ok -> Click Start\n",
    "\n",
    "* Select Autosave -> Change filename to dark -> Change type to Dark -> Click Apply -> Click Ok -> Click Start\n",
    "\t\n"
   ]
  },
  {
   "cell_type": "markdown",
   "metadata": {},
   "source": [
    "## If you are using CCDops Lite on a Mac Laptop ##\n",
    "\n",
    "* Launch CCDops Lite\n",
    "* connect usb cable from CCD to laptop\n",
    "* connect to CCD within CCDops\n",
    "* check setup of filter wheel\n",
    "* set temperature\n"
   ]
  },
  {
   "cell_type": "code",
   "execution_count": null,
   "metadata": {
    "collapsed": true
   },
   "outputs": [],
   "source": []
  }
 ],
 "metadata": {
  "kernelspec": {
   "display_name": "Python [default]",
   "language": "python",
   "name": "python2"
  },
  "language_info": {
   "codemirror_mode": {
    "name": "ipython",
    "version": 2
   },
   "file_extension": ".py",
   "mimetype": "text/x-python",
   "name": "python",
   "nbconvert_exporter": "python",
   "pygments_lexer": "ipython2",
   "version": "2.7.13"
  }
 },
 "nbformat": 4,
 "nbformat_minor": 2
}
