{
 "cells": [
  {
   "cell_type": "markdown",
   "metadata": {},
   "source": [
    "# Creating a False-Color Image #\n",
    "\n",
    "\n",
    "Let's first import some of the modules that we will need."
   ]
  },
  {
   "cell_type": "code",
   "execution_count": 1,
   "metadata": {
    "collapsed": true
   },
   "outputs": [],
   "source": [
    "import numpy as np\n",
    "from matplotlib import pyplot as plt\n",
    "% matplotlib inline"
   ]
  },
  {
   "cell_type": "markdown",
   "metadata": {},
   "source": [
    "## What kind of image do you have? ##\n",
    "\n",
    "* Test Image\n",
    "    * In the CCD lab, you took an image of an object through a pinhole.  You should have images in three different filters.  \n",
    "    * Hopefully the position of the object did not shift between exposures.\n",
    "* Telescope image\n",
    "    * If you took images with our telescope as part of your independent project, it is likely that the position of your object(s) shifted between exposures.\n",
    "    * To account for this shift, we will use the awesome astronometry.net to determine exactly what part of the sky you imaged.\n",
    "    * One we have the World Coordinate System (wcs) information for each image, we can use it to align your individual exposures."
   ]
  },
  {
   "cell_type": "markdown",
   "metadata": {},
   "source": [
    "## Astronometry.net ##\n",
    "\n",
    "You can download a sample data set from\n",
    "\n"
   ]
  }
 ],
 "metadata": {
  "kernelspec": {
   "display_name": "Python [default]",
   "language": "python",
   "name": "python2"
  },
  "language_info": {
   "codemirror_mode": {
    "name": "ipython",
    "version": 2
   },
   "file_extension": ".py",
   "mimetype": "text/x-python",
   "name": "python",
   "nbconvert_exporter": "python",
   "pygments_lexer": "ipython2",
   "version": "2.7.13"
  }
 },
 "nbformat": 4,
 "nbformat_minor": 2
}
