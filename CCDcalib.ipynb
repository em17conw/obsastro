{
 "metadata": {
  "name": "",
  "signature": "sha256:7135af22da85202b779c7372fc46956dea515af8921b2bb5e8dc7170fe22aa71"
 },
 "nbformat": 3,
 "nbformat_minor": 0,
 "worksheets": [
  {
   "cells": [
    {
     "cell_type": "heading",
     "level": 1,
     "metadata": {},
     "source": [
      "CCD Calibration Lab"
     ]
    },
    {
     "cell_type": "code",
     "collapsed": false,
     "input": [
      "import numpy as np\n",
      "from matplotlib import pyplot as plt\n",
      "import glob\n",
      "import argparse\n",
      "from astropy.io import fits\n",
      "%matplotlib inline"
     ],
     "language": "python",
     "metadata": {},
     "outputs": [],
     "prompt_number": 1
    },
    {
     "cell_type": "markdown",
     "metadata": {},
     "source": [
      "    $$\\alpha = \\beta$$"
     ]
    },
    {
     "cell_type": "heading",
     "level": 2,
     "metadata": {},
     "source": [
      "Calculate Readnoise"
     ]
    },
    {
     "cell_type": "code",
     "collapsed": false,
     "input": [
      "bias1=fits.getdata('/Users/rfinn/Dropbox/Siena/phys380/dataSpring2016/CCDlab/Bias1.fits')# you will need to put in the names of your files here\n",
      "bias2=fits.getdata('/Users/rfinn/Dropbox/Siena/phys380/dataSpring2016/CCDlab/Bias2.fits')\n",
      "diff_bias=bias2-bias1"
     ],
     "language": "python",
     "metadata": {},
     "outputs": [],
     "prompt_number": 3
    },
    {
     "cell_type": "code",
     "collapsed": false,
     "input": [],
     "language": "python",
     "metadata": {},
     "outputs": []
    }
   ],
   "metadata": {}
  }
 ]
}