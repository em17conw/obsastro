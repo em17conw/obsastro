{
 "cells": [
  {
   "cell_type": "markdown",
   "metadata": {},
   "source": [
    "## Analysis of Data for Intensity of Light Lab ##\n",
    "\n",
    " "
   ]
  },
  {
   "cell_type": "markdown",
   "metadata": {},
   "source": [
    "### Load basic python modules ###"
   ]
  },
  {
   "cell_type": "code",
   "execution_count": 5,
   "metadata": {
    "collapsed": false
   },
   "outputs": [
    {
     "name": "stderr",
     "output_type": "stream",
     "text": [
      "//anaconda/envs/astroconda/lib/python2.7/site-packages/matplotlib/font_manager.py:273: UserWarning: Matplotlib is building the font cache using fc-list. This may take a moment.\n",
      "  warnings.warn('Matplotlib is building the font cache using fc-list. This may take a moment.')\n"
     ]
    }
   ],
   "source": [
    "import numpy as np\n",
    "from matplotlib import pyplot as plt\n",
    "%matplotlib inline\n",
    "import warnings\n",
    "warnings.filterwarnings('ignore')"
   ]
  },
  {
   "cell_type": "markdown",
   "metadata": {},
   "source": [
    "### If you entered your data into a spreadsheet ###\n",
    "\n",
    "We can read it right from the spreadsheet if it is save in excel format.  If you entered data in a google sheet, download it as an excel file and then upload the file to your jupyterhub account."
   ]
  },
  {
   "cell_type": "code",
   "execution_count": 6,
   "metadata": {
    "collapsed": false
   },
   "outputs": [],
   "source": [
    "import pandas as pd"
   ]
  },
  {
   "cell_type": "code",
   "execution_count": 7,
   "metadata": {
    "collapsed": false
   },
   "outputs": [],
   "source": [
    "file = 'Intensity-data-template.xlsx'\n",
    "xtable = pd.read_excel(file) # this stores the data in a table"
   ]
  },
  {
   "cell_type": "code",
   "execution_count": 8,
   "metadata": {
    "collapsed": false
   },
   "outputs": [
    {
     "name": "stdout",
     "output_type": "stream",
     "text": [
      "   distance (cm)       lux 1       lux 2        lux 3  Unnamed: 4  1000000\n",
      "0             10  796.178344  477.707006  1114.649682         NaN      NaN\n",
      "1             20  199.044586  159.235669   119.426752         NaN      NaN\n",
      "2             30   88.464260  106.157112    88.464260         NaN      NaN\n",
      "3             40   49.761147   49.761147    49.761147         NaN      NaN\n",
      "4             50   31.847134   31.847134    19.108280         NaN      NaN\n",
      "5             60   22.116065   22.116065    30.962491         NaN      NaN\n",
      "6             70   16.248538   19.498245     9.749123         NaN      NaN\n",
      "7             80   12.440287   14.928344     7.464172         NaN      NaN\n",
      "8             90    9.829362    9.829362     9.829362         NaN      NaN\n",
      "9            100    7.961783    7.961783    11.146497         NaN      NaN\n"
     ]
    }
   ],
   "source": [
    "print(xtable)"
   ]
  },
  {
   "cell_type": "code",
   "execution_count": 9,
   "metadata": {
    "collapsed": true
   },
   "outputs": [],
   "source": [
    "# to convert the table to a matrix\n",
    "xdat = xtable.as_matrix() # excel data is now stored in a 2D array"
   ]
  },
  {
   "cell_type": "code",
   "execution_count": 10,
   "metadata": {
    "collapsed": false
   },
   "outputs": [
    {
     "name": "stdout",
     "output_type": "stream",
     "text": [
      "[  10.   20.   30.   40.   50.   60.   70.   80.   90.  100.]\n"
     ]
    }
   ],
   "source": [
    "# to access the first column of distances\n",
    "distance = xdat[:,0]\n",
    "print(distance)"
   ]
  },
  {
   "cell_type": "code",
   "execution_count": 11,
   "metadata": {
    "collapsed": true
   },
   "outputs": [],
   "source": [
    "lux1 = xdat[:,1]\n",
    "lux2 = xdat[:,2]\n",
    "lux3 = xdat[:,3]"
   ]
  },
  {
   "cell_type": "code",
   "execution_count": 12,
   "metadata": {
    "collapsed": false
   },
   "outputs": [
    {
     "data": {
      "text/plain": [
       "<matplotlib.text.Text at 0x112e88950>"
      ]
     },
     "execution_count": 12,
     "metadata": {},
     "output_type": "execute_result"
    },
    {
     "data": {
      "image/png": "[encoded data removed]",
      "text/plain": [
       "<matplotlib.figure.Figure at 0x112c34950>"
      ]
     },
     "metadata": {},
     "output_type": "display_data"
    }
   ],
   "source": [
    "# make a plot\n",
    "plt.figure()\n",
    "plt.clf()\n",
    "plt.plot(distance,lux1,'bo',label='Trial 1')\n",
    "plt.plot(distance,lux1,'gs',label='Trial 2')\n",
    "plt.plot(distance,lux1,'r^',label='Trial 3')\n",
    "plt.legend(numpoints=1)\n",
    "plt.xlabel('distance (cm)',fontsize=16)\n",
    "plt.ylabel('Intensity (lux)',fontsize=16)"
   ]
  },
  {
   "cell_type": "markdown",
   "metadata": {},
   "source": [
    "### If you are entering data by hand ###"
   ]
  },
  {
   "cell_type": "code",
   "execution_count": 13,
   "metadata": {
    "collapsed": false
   },
   "outputs": [],
   "source": [
    "# in this cell I am making up data\n",
    "# you should just create arrays with your measured values\n",
    "luminosity = 100000. # making up fake data\n",
    "distance = np.arange(10,100,10)\n",
    "# true lux\n",
    "lux = luminosity/(4.*np.pi*distance**2) \n",
    "# making up experimental values\n",
    "lux1 = lux + np.random.uniform(-1.,1.)*lux*.4\n",
    "lux2 = lux + np.random.uniform(-1.,1.)*lux*.4\n",
    "lux3 = lux + np.random.uniform(-1.,1.)*lux*.4"
   ]
  },
  {
   "cell_type": "code",
   "execution_count": 14,
   "metadata": {
    "collapsed": false
   },
   "outputs": [
    {
     "name": "stdout",
     "output_type": "stream",
     "text": [
      "[ 80.91378889  20.22844722   8.99042099   5.05711181   3.23655156\n",
      "   2.24760525   1.65130181   1.26427795   0.99893567]\n"
     ]
    }
   ],
   "source": [
    "# calculate the average of the 3 trials\n",
    "lux_ave = np.mean([lux1,lux2,lux3],axis=0)\n",
    "print(lux_ave)"
   ]
  },
  {
   "cell_type": "code",
   "execution_count": 15,
   "metadata": {
    "collapsed": false
   },
   "outputs": [
    {
     "name": "stdout",
     "output_type": "stream",
     "text": [
      "[ 8.05596433  2.01399108  0.89510715  0.50349777  0.32223857  0.22377679\n",
      "  0.16440744  0.12587444  0.09945635]\n"
     ]
    }
   ],
   "source": [
    "# calculate the std among the 3 trials\n",
    "lux_std = np.std([lux1,lux2,lux3],axis=0)\n",
    "print(lux_std)"
   ]
  },
  {
   "cell_type": "code",
   "execution_count": 16,
   "metadata": {
    "collapsed": false
   },
   "outputs": [
    {
     "data": {
      "text/plain": [
       "<matplotlib.text.Text at 0x1159d0110>"
      ]
     },
     "execution_count": 16,
     "metadata": {},
     "output_type": "execute_result"
    },
    {
     "data": {
      "image/png": "[encoded data removed]",
      "text/plain": [
       "<matplotlib.figure.Figure at 0x112c340d0>"
      ]
     },
     "metadata": {},
     "output_type": "display_data"
    }
   ],
   "source": [
    "plt.figure()\n",
    "plt.clf()\n",
    "plt.plot(distance,lux_ave,'bo')\n",
    "plt.errorbar(distance,lux_ave,lux_std,fmt=None)\n",
    "ax = plt.gca()\n",
    "ax.set_yscale('log')\n",
    "ax.set_xscale('log')\n",
    "plt.xlabel('distance (cm)',fontsize=16)\n",
    "plt.ylabel('Intensity (lux)',fontsize=16)"
   ]
  },
  {
   "cell_type": "markdown",
   "metadata": {},
   "source": [
    "## How to fit the power law exponent ##"
   ]
  },
  {
   "cell_type": "markdown",
   "metadata": {},
   "source": [
    "### Method 1###  \n",
    "First we will do a simple fit by converting the data into log-log space and then fitting a straight line."
   ]
  },
  {
   "cell_type": "code",
   "execution_count": 17,
   "metadata": {
    "collapsed": true
   },
   "outputs": [],
   "source": [
    "log_distance = np.log10(distance)\n",
    "log_lux = np.log10(lux1)\n"
   ]
  },
  {
   "cell_type": "code",
   "execution_count": 20,
   "metadata": {
    "collapsed": false
   },
   "outputs": [
    {
     "name": "stdout",
     "output_type": "stream",
     "text": [
      "[-2.          3.90802254]\n"
     ]
    },
    {
     "data": {
      "text/plain": [
       "<matplotlib.legend.Legend at 0x112b5f7d0>"
      ]
     },
     "execution_count": 20,
     "metadata": {},
     "output_type": "execute_result"
    },
    {
     "data": {
      "image/png": "[encoded data removed]",
      "text/plain": [
       "<matplotlib.figure.Figure at 0x11660ff10>"
      ]
     },
     "metadata": {},
     "output_type": "display_data"
    }
   ],
   "source": [
    "# plot the log_lux vs log_distance\n",
    "plt.figure()\n",
    "plt.clf()\n",
    "plt.plot(log_distance,log_lux,'bo',label='ave data')\n",
    "plt.xlabel('$ \\log_{10}(distance (cm))$',fontsize=16)\n",
    "plt.ylabel('$ \\log_{10}(Intensity (lux))$',fontsize=16)\n",
    "fig = plt.gca()\n",
    "\n",
    "c1 = np.polyfit(log_distance,log_lux,1)\n",
    "print(c1)\n",
    "xline = np.linspace(min(log_distance),max(log_distance),100)\n",
    "yline = np.polyval(c1,xline)\n",
    "plt.plot(xline,yline,'r-',label='best fit line')\n",
    "plt.legend(numpoints=1)"
   ]
  },
  {
   "cell_type": "markdown",
   "metadata": {},
   "source": [
    "You should repeat this for each set of trial data.  Then calculate the mean and standard deviation of the power-law exponent that you calculated for each trial."
   ]
  },
  {
   "cell_type": "markdown",
   "metadata": {},
   "source": [
    "### Method 2###\n",
    "\n",
    "Method 1 does not take our measurement error into account, so we should try something a bit more sophisticated.  We will follow this example of how to fit a power law using the scipy.optimize module.\n",
    "\n",
    "http://scipy-cookbook.readthedocs.io/items/FittingData.html"
   ]
  },
  {
   "cell_type": "code",
   "execution_count": 3,
   "metadata": {
    "collapsed": false
   },
   "outputs": [],
   "source": [
    "# import the curve fitting function from scipy\n",
    "from scipy.optimize import curve_fit "
   ]
  },
  {
   "cell_type": "markdown",
   "metadata": {},
   "source": [
    "We are going to fit a power-law function, which has the form:\n",
    "\n",
    "$$ y = a x^n $$"
   ]
  },
  {
   "cell_type": "code",
   "execution_count": 4,
   "metadata": {
    "collapsed": true
   },
   "outputs": [],
   "source": [
    "# define a function that we are going to use to fit the data\n",
    "def fitfunction(x,a,n):\n",
    "    return a*x**n"
   ]
  },
  {
   "cell_type": "code",
   "execution_count": 30,
   "metadata": {
    "collapsed": false
   },
   "outputs": [
    {
     "name": "stdout",
     "output_type": "stream",
     "text": [
      "best-fit value of power law = -2.0 \n",
      "best-fit value of a = 8091.4\n",
      "the uncertainty of power law = 1.3e-16\n",
      "the uncertainty of a = 3.8e-12\n"
     ]
    }
   ],
   "source": [
    "s,p = curve_fit(fitfunction,distance,lux_ave,sigma=lux_std)\n",
    "print 'best-fit value of power law = %.1f ' % (s[1])\n",
    "print 'best-fit value of a = %.1f' %(s[0])\n",
    "error_estimate = np.sqrt(np.diag(p))\n",
    "print 'the uncertainty of power law = %.1e' % (error_estimate[1])\n",
    "print 'the uncertainty of a = %.1e' % (error_estimate[0])"
   ]
  },
  {
   "cell_type": "markdown",
   "metadata": {},
   "source": [
    "Note that these errors are crazy small because I am using fake data."
   ]
  },
  {
   "cell_type": "markdown",
   "metadata": {},
   "source": [
    "### Method 3 ###\n",
    "\n",
    "Method 2 has limitations as well, and the details are discussed in a paper by Clauset, Shalizi, and Newman (2009).  Going beyond Method 2 is beyond the scope of this course, but interested readers should see the links below.\n",
    "\n",
    "https://arxiv.org/pdf/0706.1062v2.pdf\n",
    "\n",
    "The python version of their code is described here\n",
    "\n",
    "https://code.google.com/archive/p/agpy/wikis/PowerLaw.wiki\n"
   ]
  },
  {
   "cell_type": "code",
   "execution_count": null,
   "metadata": {
    "collapsed": true
   },
   "outputs": [],
   "source": []
  }
 ],
 "metadata": {
  "kernelspec": {
   "display_name": "Python [conda env:astroconda]",
   "language": "python",
   "name": "conda-env-astroconda-py"
  },
  "language_info": {
   "codemirror_mode": {
    "name": "ipython",
    "version": 2
   },
   "file_extension": ".py",
   "mimetype": "text/x-python",
   "name": "python",
   "nbconvert_exporter": "python",
   "pygments_lexer": "ipython2",
   "version": "2.7.11"
  }
 },
 "nbformat": 4,
 "nbformat_minor": 2
}
