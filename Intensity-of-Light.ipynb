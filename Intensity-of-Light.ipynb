{
 "cells": [
  {
   "cell_type": "markdown",
   "metadata": {},
   "source": [
    "## Analysis of Data for Intensity of Light Lab ##\n",
    "\n",
    " "
   ]
  },
  {
   "cell_type": "markdown",
   "metadata": {},
   "source": [
    "### Load basic python modules ###"
   ]
  },
  {
   "cell_type": "code",
   "execution_count": 52,
   "metadata": {
    "collapsed": false
   },
   "outputs": [],
   "source": [
    "import numpy as np\n",
    "from matplotlib import pyplot as plt\n",
    "%matplotlib inline\n",
    "import warnings\n",
    "warnings.filterwarnings('ignore')"
   ]
  },
  {
   "cell_type": "markdown",
   "metadata": {},
   "source": [
    "### If you entered your data into a spreadsheet ###\n",
    "\n",
    "We can read it right from the spreadsheet if it is save in excel format.  If you entered data in a google sheet, download it as an excel file and then upload the file to your jupyterhub account."
   ]
  },
  {
   "cell_type": "code",
   "execution_count": 75,
   "metadata": {
    "collapsed": false
   },
   "outputs": [],
   "source": [
    "import pandas as pd"
   ]
  },
  {
   "cell_type": "code",
   "execution_count": 76,
   "metadata": {
    "collapsed": false
   },
   "outputs": [],
   "source": [
    "file = 'Intensity-data-template.xlsx'\n",
    "xtable = pd.read_excel(file) # this stores the data in a table"
   ]
  },
  {
   "cell_type": "code",
   "execution_count": 77,
   "metadata": {
    "collapsed": false
   },
   "outputs": [
    {
     "name": "stdout",
     "output_type": "stream",
     "text": [
      "   distance (cm)       lux 1       lux 2        lux 3  Unnamed: 4  1000000\n",
      "0             10  796.178344  477.707006  1114.649682         NaN      NaN\n",
      "1             20  199.044586  159.235669   119.426752         NaN      NaN\n",
      "2             30   88.464260  106.157112    88.464260         NaN      NaN\n",
      "3             40   49.761147   49.761147    49.761147         NaN      NaN\n",
      "4             50   31.847134   31.847134    19.108280         NaN      NaN\n",
      "5             60   22.116065   22.116065    30.962491         NaN      NaN\n",
      "6             70   16.248538   19.498245     9.749123         NaN      NaN\n",
      "7             80   12.440287   14.928344     7.464172         NaN      NaN\n",
      "8             90    9.829362    9.829362     9.829362         NaN      NaN\n",
      "9            100    7.961783    7.961783    11.146497         NaN      NaN\n"
     ]
    }
   ],
   "source": [
    "print(xtable)"
   ]
  },
  {
   "cell_type": "code",
   "execution_count": 78,
   "metadata": {
    "collapsed": true
   },
   "outputs": [],
   "source": [
    "# to convert the table to a matrix\n",
    "xdat = xtable.as_matrix() # excel data is now stored in a 2D array"
   ]
  },
  {
   "cell_type": "code",
   "execution_count": 79,
   "metadata": {
    "collapsed": false
   },
   "outputs": [
    {
     "name": "stdout",
     "output_type": "stream",
     "text": [
      "[  10.   20.   30.   40.   50.   60.   70.   80.   90.  100.]\n"
     ]
    }
   ],
   "source": [
    "# to access the first column of distances\n",
    "distance = xdat[:,0]\n",
    "print(distance)"
   ]
  },
  {
   "cell_type": "code",
   "execution_count": 80,
   "metadata": {
    "collapsed": true
   },
   "outputs": [],
   "source": [
    "lux1 = xdat[:,1]\n",
    "lux2 = xdat[:,2]\n",
    "lux3 = xdat[:,3]"
   ]
  },
  {
   "cell_type": "code",
   "execution_count": 81,
   "metadata": {
    "collapsed": false
   },
   "outputs": [
    {
     "data": {
      "text/plain": [
       "<matplotlib.text.Text at 0x115d382d0>"
      ]
     },
     "execution_count": 81,
     "metadata": {},
     "output_type": "execute_result"
    },
    {
     "data": {
      "image/png": "[encoded data removed]",
      "text/plain": [
       "<matplotlib.figure.Figure at 0x116967a50>"
      ]
     },
     "metadata": {},
     "output_type": "display_data"
    }
   ],
   "source": [
    "# make a plot\n",
    "plt.figure()\n",
    "plt.clf()\n",
    "plt.plot(distance,lux1,'bo',label='Trial 1')\n",
    "plt.plot(distance,lux1,'gs',label='Trial 2')\n",
    "plt.plot(distance,lux1,'r^',label='Trial 3')\n",
    "plt.legend(numpoints=1)\n",
    "plt.xlabel('distance (cm)',fontsize=16)\n",
    "plt.ylabel('Intensity (lux)',fontsize=16)"
   ]
  },
  {
   "cell_type": "markdown",
   "metadata": {},
   "source": [
    "### If you are entering data by hand ###"
   ]
  },
  {
   "cell_type": "code",
   "execution_count": 82,
   "metadata": {
    "collapsed": false
   },
   "outputs": [],
   "source": [
    "# in this cell I am making up data\n",
    "# you should just create arrays with your measured values\n",
    "luminosity = 100000. # making up fake data\n",
    "distance = np.arange(10,100,10)\n",
    "# true lux\n",
    "lux = luminosity/(4.*np.pi*distance**2) \n",
    "# making up experimental values\n",
    "lux1 = lux + np.random.uniform(-1.,1.)*lux*.4\n",
    "lux2 = lux + np.random.uniform(-1.,1.)*lux*.4\n",
    "lux3 = lux + np.random.uniform(-1.,1.)*lux*.4"
   ]
  },
  {
   "cell_type": "code",
   "execution_count": 83,
   "metadata": {
    "collapsed": false
   },
   "outputs": [
    {
     "name": "stdout",
     "output_type": "stream",
     "text": [
      "[ 73.29632461  18.32408115   8.14403607   4.58102029   2.93185298\n",
      "   2.03600902   1.49584336   1.14525507   0.9048929 ]\n"
     ]
    }
   ],
   "source": [
    "# calculate the average of the 3 trials\n",
    "lux_ave = np.mean([lux1,lux2,lux3],axis=0)\n",
    "print(lux_ave)"
   ]
  },
  {
   "cell_type": "code",
   "execution_count": 84,
   "metadata": {
    "collapsed": false
   },
   "outputs": [
    {
     "name": "stdout",
     "output_type": "stream",
     "text": [
      "[ 23.28658443   5.82164611   2.58739827   1.45541153   0.93146338\n",
      "   0.64684957   0.47523642   0.36385288   0.2874887 ]\n"
     ]
    }
   ],
   "source": [
    "# calculate the std among the 3 trials\n",
    "lux_std = np.std([lux1,lux2,lux3],axis=0)\n",
    "print(lux_std)"
   ]
  },
  {
   "cell_type": "code",
   "execution_count": 85,
   "metadata": {
    "collapsed": false
   },
   "outputs": [
    {
     "data": {
      "text/plain": [
       "<matplotlib.text.Text at 0x116214690>"
      ]
     },
     "execution_count": 85,
     "metadata": {},
     "output_type": "execute_result"
    },
    {
     "data": {
      "image/png": "[encoded data removed]",
      "text/plain": [
       "<matplotlib.figure.Figure at 0x113bf8d50>"
      ]
     },
     "metadata": {},
     "output_type": "display_data"
    }
   ],
   "source": [
    "plt.figure()\n",
    "plt.clf()\n",
    "plt.plot(distance,lux_ave,'bo')\n",
    "plt.errorbar(distance,lux_ave,lux_std,fmt=None)\n",
    "ax = plt.gca()\n",
    "ax.set_yscale('log')\n",
    "ax.set_xscale('log')\n",
    "plt.xlabel('distance (cm)',fontsize=16)\n",
    "plt.ylabel('Intensity (lux)',fontsize=16)"
   ]
  },
  {
   "cell_type": "markdown",
   "metadata": {},
   "source": [
    "## How to fit the power law exponent ##"
   ]
  },
  {
   "cell_type": "markdown",
   "metadata": {},
   "source": [
    "### Method 1###  \n",
    "First we will do a simple fit by converting the data into log-log space and then fitting a straight line."
   ]
  },
  {
   "cell_type": "code",
   "execution_count": 90,
   "metadata": {
    "collapsed": true
   },
   "outputs": [],
   "source": [
    "log_distance = np.log10(distance)\n",
    "log_lux = np.log10(lux_ave)\n"
   ]
  },
  {
   "cell_type": "code",
   "execution_count": 98,
   "metadata": {
    "collapsed": false
   },
   "outputs": [
    {
     "name": "stdout",
     "output_type": "stream",
     "text": [
      "[-2.         3.8650822]\n"
     ]
    },
    {
     "data": {
      "text/plain": [
       "<matplotlib.legend.Legend at 0x11772e850>"
      ]
     },
     "execution_count": 98,
     "metadata": {},
     "output_type": "execute_result"
    },
    {
     "data": {
      "image/png": "[encoded data removed]",
      "text/plain": [
       "<matplotlib.figure.Figure at 0x116ed6d50>"
      ]
     },
     "metadata": {},
     "output_type": "display_data"
    }
   ],
   "source": [
    "# plot the log_lux vs log_distance\n",
    "plt.figure()\n",
    "plt.clf()\n",
    "plt.plot(log_distance,log_lux,'bo',label='ave data')\n",
    "plt.xlabel('$ \\log_{10}(distance (cm))$',fontsize=16)\n",
    "plt.ylabel('$ \\log_{10}(Intensity (lux))$',fontsize=16)\n",
    "fig = plt.gca()\n",
    "\n",
    "\n",
    "c1 = np.polyfit(log_distance,log_lux,1)\n",
    "print(c1)\n",
    "xline = np.linspace(min(log_distance),max(log_distance),100)\n",
    "yline = np.polyval(c1,xline)\n",
    "plt.plot(xline,yline,'r-',label='best fit line')\n",
    "plt.legend(numpoints=1)"
   ]
  },
  {
   "cell_type": "markdown",
   "metadata": {},
   "source": [
    "### Method 2###\n",
    "\n",
    "Method 1 does not take our measurement error into account, so we should try something a bit more sophisticated.  We will follow this example of how to fit a power law using the scipy.optimize module.\n",
    "\n",
    "http://scipy-cookbook.readthedocs.io/items/FittingData.html"
   ]
  },
  {
   "cell_type": "code",
   "execution_count": null,
   "metadata": {
    "collapsed": true
   },
   "outputs": [],
   "source": []
  },
  {
   "cell_type": "markdown",
   "metadata": {},
   "source": [
    "### Method 3 ###\n",
    "\n",
    "Method 2 has limitations as well, and the details are discussed in a paper by Clauset, Shalizi, and Newman (2009).\n",
    "\n",
    "https://arxiv.org/pdf/0706.1062v2.pdf\n",
    "\n",
    "The python version of their code is described here\n",
    "\n",
    "https://code.google.com/archive/p/agpy/wikis/PowerLaw.wiki\n"
   ]
  },
  {
   "cell_type": "code",
   "execution_count": null,
   "metadata": {
    "collapsed": true
   },
   "outputs": [],
   "source": []
  }
 ],
 "metadata": {
  "kernelspec": {
   "display_name": "Python [conda env:astroconda]",
   "language": "python",
   "name": "conda-env-astroconda-py"
  },
  "language_info": {
   "codemirror_mode": {
    "name": "ipython",
    "version": 2
   },
   "file_extension": ".py",
   "mimetype": "text/x-python",
   "name": "python",
   "nbconvert_exporter": "python",
   "pygments_lexer": "ipython2",
   "version": "2.7.11"
  }
 },
 "nbformat": 4,
 "nbformat_minor": 2
}
