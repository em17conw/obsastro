{
 "cells": [
  {
   "cell_type": "markdown",
   "metadata": {},
   "source": [
    "## Analysis of Data for Intensity of Light Lab ##\n",
    "\n",
    " "
   ]
  },
  {
   "cell_type": "markdown",
   "metadata": {},
   "source": [
    "### Load basic python modules ###"
   ]
  },
  {
   "cell_type": "code",
   "execution_count": 52,
   "metadata": {
    "collapsed": false
   },
   "outputs": [],
   "source": [
    "import numpy as np\n",
    "from matplotlib import pyplot as plt\n",
    "%matplotlib inline\n",
    "import warnings\n",
    "warnings.filterwarnings('ignore')"
   ]
  },
  {
   "cell_type": "markdown",
   "metadata": {},
   "source": [
    "### If you entered your data into a spreadsheet ###\n",
    "\n",
    "We can read it right from the spreadsheet if it is save in excel format.  If you entered "
   ]
  },
  {
   "cell_type": "code",
   "execution_count": 75,
   "metadata": {
    "collapsed": false
   },
   "outputs": [],
   "source": [
    "import pandas as pd"
   ]
  },
  {
   "cell_type": "code",
   "execution_count": 76,
   "metadata": {
    "collapsed": false
   },
   "outputs": [],
   "source": [
    "file = 'Intensity-data-template.xlsx'\n",
    "xtable = pd.read_excel(file) # this stores the data in a table"
   ]
  },
  {
   "cell_type": "code",
   "execution_count": 77,
   "metadata": {
    "collapsed": false
   },
   "outputs": [
    {
     "name": "stdout",
     "output_type": "stream",
     "text": [
      "   distance (cm)       lux 1       lux 2        lux 3  Unnamed: 4  1000000\n",
      "0             10  796.178344  477.707006  1114.649682         NaN      NaN\n",
      "1             20  199.044586  159.235669   119.426752         NaN      NaN\n",
      "2             30   88.464260  106.157112    88.464260         NaN      NaN\n",
      "3             40   49.761147   49.761147    49.761147         NaN      NaN\n",
      "4             50   31.847134   31.847134    19.108280         NaN      NaN\n",
      "5             60   22.116065   22.116065    30.962491         NaN      NaN\n",
      "6             70   16.248538   19.498245     9.749123         NaN      NaN\n",
      "7             80   12.440287   14.928344     7.464172         NaN      NaN\n",
      "8             90    9.829362    9.829362     9.829362         NaN      NaN\n",
      "9            100    7.961783    7.961783    11.146497         NaN      NaN\n"
     ]
    }
   ],
   "source": [
    "print(xtable)"
   ]
  },
  {
   "cell_type": "code",
   "execution_count": 78,
   "metadata": {
    "collapsed": true
   },
   "outputs": [],
   "source": [
    "# to convert the table to a matrix\n",
    "xdat = xtable.as_matrix() # excel data is now stored in a 2D array"
   ]
  },
  {
   "cell_type": "code",
   "execution_count": 79,
   "metadata": {
    "collapsed": false
   },
   "outputs": [
    {
     "name": "stdout",
     "output_type": "stream",
     "text": [
      "[  10.   20.   30.   40.   50.   60.   70.   80.   90.  100.]\n"
     ]
    }
   ],
   "source": [
    "# to access the first column of distances\n",
    "distance = xdat[:,0]\n",
    "print(distance)"
   ]
  },
  {
   "cell_type": "code",
   "execution_count": 80,
   "metadata": {
    "collapsed": true
   },
   "outputs": [],
   "source": [
    "lux1 = xdat[:,1]\n",
    "lux2 = xdat[:,2]\n",
    "lux3 = xdat[:,3]"
   ]
  },
  {
   "cell_type": "code",
   "execution_count": 81,
   "metadata": {
    "collapsed": false
   },
   "outputs": [
    {
     "data": {
      "text/plain": [
       "<matplotlib.text.Text at 0x115d382d0>"
      ]
     },
     "execution_count": 81,
     "metadata": {},
     "output_type": "execute_result"
    },
    {
     "data": {
      "image/png": "[encoded data removed]",
      "text/plain": [
       "<matplotlib.figure.Figure at 0x116967a50>"
      ]
     },
     "metadata": {},
     "output_type": "display_data"
    }
   ],
   "source": [
    "# make a plot\n",
    "plt.figure()\n",
    "plt.clf()\n",
    "plt.plot(distance,lux1,'bo',label='Trial 1')\n",
    "plt.plot(distance,lux1,'gs',label='Trial 2')\n",
    "plt.plot(distance,lux1,'r^',label='Trial 3')\n",
    "plt.legend(numpoints=1)\n",
    "plt.xlabel('distance (cm)',fontsize=16)\n",
    "plt.ylabel('Intensity (lux)',fontsize=16)"
   ]
  },
  {
   "cell_type": "markdown",
   "metadata": {},
   "source": [
    "### If you are entering data by hand ###"
   ]
  },
  {
   "cell_type": "code",
   "execution_count": 67,
   "metadata": {
    "collapsed": false
   },
   "outputs": [],
   "source": [
    "# in this cell I am making up data\n",
    "# you should just create arrays with your measured values\n",
    "luminosity = 100000. # making up fake data\n",
    "distance = np.arange(10,100,10)\n",
    "# true lux\n",
    "lux = luminosity/(4.*np.pi*distance**2) \n",
    "# making up experimental values\n",
    "lux1 = lux + np.random.uniform(-1.,1.)*lux*.3\n",
    "lux2 = lux + np.random.uniform(-1.,1.)*lux*.3\n",
    "lux3 = lux + np.random.uniform(-1.,1.)*lux*.3"
   ]
  },
  {
   "cell_type": "code",
   "execution_count": 71,
   "metadata": {
    "collapsed": false
   },
   "outputs": [
    {
     "name": "stdout",
     "output_type": "stream",
     "text": [
      "[ 72.94638034  18.23659509   8.10515337   4.55914877   2.91785521\n",
      "   2.02628834   1.48870164   1.13978719   0.9005726 ]\n"
     ]
    }
   ],
   "source": [
    "# calculate the average of the 3 trials\n",
    "lux_ave = np.mean([lux1,lux2,lux3],axis=0)\n",
    "print(lux_ave)"
   ]
  },
  {
   "cell_type": "code",
   "execution_count": 72,
   "metadata": {
    "collapsed": false
   },
   "outputs": [
    {
     "name": "stdout",
     "output_type": "stream",
     "text": [
      "[ 7.94559241  1.9863981   0.8828436   0.49659953  0.3178237   0.2207109\n",
      "  0.16215495  0.12414988  0.09809373]\n"
     ]
    }
   ],
   "source": [
    "# calculate the std among the 3 trials\n",
    "lux_std = np.std([lux1,lux2,lux3],axis=0)\n",
    "print(lux_std)"
   ]
  },
  {
   "cell_type": "code",
   "execution_count": 74,
   "metadata": {
    "collapsed": false
   },
   "outputs": [
    {
     "data": {
      "text/plain": [
       "<matplotlib.text.Text at 0x1166d2890>"
      ]
     },
     "execution_count": 74,
     "metadata": {},
     "output_type": "execute_result"
    },
    {
     "data": {
      "image/png": "[encoded data removed]",
      "text/plain": [
       "<matplotlib.figure.Figure at 0x11670cf10>"
      ]
     },
     "metadata": {},
     "output_type": "display_data"
    }
   ],
   "source": [
    "plt.figure()\n",
    "plt.clf()\n",
    "plt.plot(distance,lux_ave,'bo')\n",
    "plt.errorbar(distance,lux_ave,lux_std,fmt=None)\n",
    "ax = plt.gca()\n",
    "ax.set_yscale('log')\n",
    "ax.set_xscale('log')\n",
    "plt.xlabel('distance (cm)',fontsize=16)\n",
    "plt.ylabel('Intensity (lux)',fontsize=16)"
   ]
  },
  {
   "cell_type": "code",
   "execution_count": null,
   "metadata": {
    "collapsed": true
   },
   "outputs": [],
   "source": []
  }
 ],
 "metadata": {
  "kernelspec": {
   "display_name": "Python [conda env:astroconda]",
   "language": "python",
   "name": "conda-env-astroconda-py"
  },
  "language_info": {
   "codemirror_mode": {
    "name": "ipython",
    "version": 2
   },
   "file_extension": ".py",
   "mimetype": "text/x-python",
   "name": "python",
   "nbconvert_exporter": "python",
   "pygments_lexer": "ipython2",
   "version": "2.7.11"
  }
 },
 "nbformat": 4,
 "nbformat_minor": 2
}
